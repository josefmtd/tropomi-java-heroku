{
 "metadata": {
  "language_info": {
   "codemirror_mode": {
    "name": "ipython",
    "version": 3
   },
   "file_extension": ".py",
   "mimetype": "text/x-python",
   "name": "python",
   "nbconvert_exporter": "python",
   "pygments_lexer": "ipython3",
   "version": "3.9.5"
  },
  "orig_nbformat": 4,
  "kernelspec": {
   "name": "python3",
   "display_name": "Python 3.9.5 64-bit ('geo': conda)"
  },
  "interpreter": {
   "hash": "822c94cbd00fee4355f9d81c32e1e1ff3879e10afc19e719bb0dae01e2c777ba"
  }
 },
 "nbformat": 4,
 "nbformat_minor": 2,
 "cells": [
  {
   "cell_type": "code",
   "execution_count": 1,
   "source": [
    "import ee\n",
    "import eemont\n",
    "import geemap\n",
    "from datetime import datetime, timedelta"
   ],
   "outputs": [],
   "metadata": {}
  },
  {
   "cell_type": "markdown",
   "source": [
    "# Sentinel-5P TROPOMI Nitrogen Dioxide over Indonesia"
   ],
   "metadata": {}
  },
  {
   "cell_type": "code",
   "execution_count": 2,
   "source": [
    "Map = geemap.Map(center = (0, 120), zoom = 5)\n",
    "\n",
    "start = (datetime.utcnow() - timedelta(days = 2)).date()\n",
    "end = start + timedelta(days = 1)\n",
    "\n",
    "print(f'Date : {start.isoformat()}')\n",
    "print('Units in ug/m^2')"
   ],
   "outputs": [
    {
     "output_type": "stream",
     "name": "stdout",
     "text": [
      "Date : 2021-07-14\n",
      "Units in molecule/m^2\n"
     ]
    }
   ],
   "metadata": {}
  },
  {
   "cell_type": "code",
   "execution_count": 3,
   "source": [
    "bounds = ee.Geometry.BBox(west = 90.0, south = -15.0, \n",
    "    east = 150.0, north = 15.0)\n",
    "\n",
    "no2 = ee.ImageCollection('COPERNICUS/S5P/NRTI/L3_NO2') \\\n",
    "    .select('tropospheric_NO2_column_number_density') \\\n",
    "    .filterBounds(bounds) \\\n",
    "    .filterDate(start.isoformat(), end.isoformat())\n",
    "\n",
    "\n",
    "\n",
    "palette = ['black', 'blue', 'purple', 'cyan', 'green',\n",
    "    'yellow', 'red']\n",
    "\n",
    "vis_params = {\n",
    "  'min': 0,\n",
    "  'max': 9200.0,\n",
    "  'palette' : palette\n",
    "}\n",
    "\n",
    "no2_molar_mass = 46.0055 # g/mol\n",
    "no2_converted = no2.mean().clip(bounds) * no2_molar_mass * 1e6\n",
    "\n",
    "Map.addLayer(no2_converted, vis_params, 'S5P NO2')\n",
    "Map"
   ],
   "outputs": [
    {
     "output_type": "display_data",
     "data": {
      "text/plain": [
       "Map(center=[0, 120], controls=(WidgetControl(options=['position', 'transparent_bg'], widget=HBox(children=(Tog…"
      ],
      "application/vnd.jupyter.widget-view+json": {
       "version_major": 2,
       "version_minor": 0,
       "model_id": "625393c392764a2c9ed3f2407dac6fab"
      }
     },
     "metadata": {}
    }
   ],
   "metadata": {}
  },
  {
   "cell_type": "code",
   "execution_count": null,
   "source": [],
   "outputs": [],
   "metadata": {}
  }
 ]
}