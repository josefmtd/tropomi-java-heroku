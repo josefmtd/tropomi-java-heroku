{
 "metadata": {
  "language_info": {
   "codemirror_mode": {
    "name": "ipython",
    "version": 3
   },
   "file_extension": ".py",
   "mimetype": "text/x-python",
   "name": "python",
   "nbconvert_exporter": "python",
   "pygments_lexer": "ipython3",
   "version": "3.9.5"
  },
  "orig_nbformat": 4,
  "kernelspec": {
   "name": "python3",
   "display_name": "Python 3.9.5 64-bit ('geo': conda)"
  },
  "interpreter": {
   "hash": "822c94cbd00fee4355f9d81c32e1e1ff3879e10afc19e719bb0dae01e2c777ba"
  }
 },
 "nbformat": 4,
 "nbformat_minor": 2,
 "cells": [
  {
   "cell_type": "code",
   "execution_count": 3,
   "metadata": {},
   "outputs": [],
   "source": [
    "import ee\n",
    "import geemap\n",
    "from datetime import datetime, timedelta"
   ]
  },
  {
   "source": [
    "# Sentinel-5P TROPOMI Nitrogen Dioxide over Indonesia"
   ],
   "cell_type": "markdown",
   "metadata": {}
  },
  {
   "cell_type": "code",
   "execution_count": 5,
   "metadata": {},
   "outputs": [
    {
     "output_type": "stream",
     "name": "stdout",
     "text": [
      "Date : 2021-07-14\n"
     ]
    }
   ],
   "source": [
    "Map = geemap.Map(center = (0, 120), zoom = 5)\n",
    "\n",
    "start = (datetime.utcnow() - timedelta(days = 2)).date()\n",
    "end = start + timedelta(days = 1)\n",
    "\n",
    "print(f'Date : {start.isoformat()}')\n",
    "print('Units in molecule/m^2')"
   ]
  },
  {
   "cell_type": "code",
   "execution_count": null,
   "metadata": {},
   "outputs": [],
   "source": [
    "bounds = ee.Geometry.BBox(west = 90.0, south = -15.0, \n",
    "    east = 150.0, north = 15.0)\n",
    "\n",
    "no2 = ee.ImageCollection('COPERNICUS/S5P/NRTI/L3_NO2') \\\n",
    "    .filterBounds(bounds) \\\n",
    "    .filterDate(start.isoformat(), end.isoformat())\n",
    "\n",
    "palette = ['black', 'blue', 'purple', 'cyan', 'green',\n",
    "    'yellow', 'red']\n",
    "\n",
    "vis_params = {\n",
    "  'min': 0,\n",
    "  'max': 0.0002,\n",
    "  'palette' : palette\n",
    "}\n",
    "\n",
    "Map.addLayer(no2.mean().clip(bounds), vis_params, 'S5P NO2')"
   ]
  }
 ]
}